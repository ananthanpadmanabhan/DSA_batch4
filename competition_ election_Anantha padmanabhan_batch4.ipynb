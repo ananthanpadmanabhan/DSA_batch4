{
 "cells": [
  {
   "cell_type": "markdown",
   "id": "6ba861a3",
   "metadata": {},
   "source": [
    "# 1)Data collection"
   ]
  },
  {
   "cell_type": "code",
   "execution_count": 1,
   "id": "65f793ee",
   "metadata": {},
   "outputs": [],
   "source": [
    "import numpy as np\n",
    "import pandas as pd\n",
    "import matplotlib.pyplot as plt\n",
    "import seaborn as sns\n",
    "import warnings\n",
    "warnings.filterwarnings('ignore')\n",
    "\n",
    "from sklearn.preprocessing import LabelEncoder\n",
    "from sklearn.preprocessing import MinMaxScaler\n",
    "from sklearn.model_selection import train_test_split\n",
    "from sklearn.neighbors import KNeighborsClassifier\n",
    "from sklearn.feature_selection import SelectKBest, chi2"
   ]
  },
  {
   "cell_type": "markdown",
   "id": "2b1608a3",
   "metadata": {},
   "source": [
    "### Read the Data Table"
   ]
  },
  {
   "cell_type": "code",
   "execution_count": 2,
   "id": "5547fd1e",
   "metadata": {},
   "outputs": [
    {
     "data": {
      "text/html": [
       "<div>\n",
       "<style scoped>\n",
       "    .dataframe tbody tr th:only-of-type {\n",
       "        vertical-align: middle;\n",
       "    }\n",
       "\n",
       "    .dataframe tbody tr th {\n",
       "        vertical-align: top;\n",
       "    }\n",
       "\n",
       "    .dataframe thead th {\n",
       "        text-align: right;\n",
       "    }\n",
       "</style>\n",
       "<table border=\"1\" class=\"dataframe\">\n",
       "  <thead>\n",
       "    <tr style=\"text-align: right;\">\n",
       "      <th></th>\n",
       "      <th>STATE</th>\n",
       "      <th>CONSTITUENCY</th>\n",
       "      <th>NAME</th>\n",
       "      <th>WINNER</th>\n",
       "      <th>PARTY</th>\n",
       "      <th>SYMBOL</th>\n",
       "      <th>GENDER</th>\n",
       "      <th>CRIMINAL\\nCASES</th>\n",
       "      <th>AGE</th>\n",
       "      <th>CATEGORY</th>\n",
       "      <th>EDUCATION</th>\n",
       "      <th>GENERAL\\nVOTES</th>\n",
       "      <th>POSTAL\\nVOTES</th>\n",
       "      <th>TOTAL\\nVOTES</th>\n",
       "      <th>TOTAL ELECTORS</th>\n",
       "    </tr>\n",
       "  </thead>\n",
       "  <tbody>\n",
       "    <tr>\n",
       "      <th>0</th>\n",
       "      <td>Telangana</td>\n",
       "      <td>ADILABAD</td>\n",
       "      <td>SOYAM BAPU RAO</td>\n",
       "      <td>1</td>\n",
       "      <td>BJP</td>\n",
       "      <td>Lotus</td>\n",
       "      <td>MALE</td>\n",
       "      <td>52</td>\n",
       "      <td>52.0</td>\n",
       "      <td>ST</td>\n",
       "      <td>12th Pass</td>\n",
       "      <td>376892</td>\n",
       "      <td>482</td>\n",
       "      <td>377374</td>\n",
       "      <td>1489790</td>\n",
       "    </tr>\n",
       "    <tr>\n",
       "      <th>1</th>\n",
       "      <td>Telangana</td>\n",
       "      <td>ADILABAD</td>\n",
       "      <td>Godam Nagesh</td>\n",
       "      <td>0</td>\n",
       "      <td>TRS</td>\n",
       "      <td>Car</td>\n",
       "      <td>MALE</td>\n",
       "      <td>0</td>\n",
       "      <td>54.0</td>\n",
       "      <td>ST</td>\n",
       "      <td>Post Graduate</td>\n",
       "      <td>318665</td>\n",
       "      <td>149</td>\n",
       "      <td>318814</td>\n",
       "      <td>1489790</td>\n",
       "    </tr>\n",
       "    <tr>\n",
       "      <th>2</th>\n",
       "      <td>Telangana</td>\n",
       "      <td>ADILABAD</td>\n",
       "      <td>RATHOD RAMESH</td>\n",
       "      <td>0</td>\n",
       "      <td>INC</td>\n",
       "      <td>Hand</td>\n",
       "      <td>MALE</td>\n",
       "      <td>3</td>\n",
       "      <td>52.0</td>\n",
       "      <td>ST</td>\n",
       "      <td>12th Pass</td>\n",
       "      <td>314057</td>\n",
       "      <td>181</td>\n",
       "      <td>314238</td>\n",
       "      <td>1489790</td>\n",
       "    </tr>\n",
       "    <tr>\n",
       "      <th>3</th>\n",
       "      <td>Telangana</td>\n",
       "      <td>ADILABAD</td>\n",
       "      <td>NOTA</td>\n",
       "      <td>0</td>\n",
       "      <td>NOTA</td>\n",
       "      <td>NaN</td>\n",
       "      <td>NaN</td>\n",
       "      <td>NaN</td>\n",
       "      <td>NaN</td>\n",
       "      <td>NaN</td>\n",
       "      <td>NaN</td>\n",
       "      <td>13030</td>\n",
       "      <td>6</td>\n",
       "      <td>13036</td>\n",
       "      <td>1489790</td>\n",
       "    </tr>\n",
       "    <tr>\n",
       "      <th>4</th>\n",
       "      <td>Uttar Pradesh</td>\n",
       "      <td>AGRA</td>\n",
       "      <td>Satyapal Singh Baghel</td>\n",
       "      <td>1</td>\n",
       "      <td>BJP</td>\n",
       "      <td>Lotus</td>\n",
       "      <td>MALE</td>\n",
       "      <td>5</td>\n",
       "      <td>58.0</td>\n",
       "      <td>SC</td>\n",
       "      <td>Doctorate</td>\n",
       "      <td>644459</td>\n",
       "      <td>2416</td>\n",
       "      <td>646875</td>\n",
       "      <td>1937690</td>\n",
       "    </tr>\n",
       "  </tbody>\n",
       "</table>\n",
       "</div>"
      ],
      "text/plain": [
       "           STATE CONSTITUENCY                   NAME  WINNER PARTY SYMBOL  \\\n",
       "0      Telangana     ADILABAD         SOYAM BAPU RAO       1   BJP  Lotus   \n",
       "1      Telangana     ADILABAD           Godam Nagesh       0   TRS    Car   \n",
       "2      Telangana     ADILABAD          RATHOD RAMESH       0   INC   Hand   \n",
       "3      Telangana     ADILABAD                   NOTA       0  NOTA    NaN   \n",
       "4  Uttar Pradesh         AGRA  Satyapal Singh Baghel       1   BJP  Lotus   \n",
       "\n",
       "  GENDER CRIMINAL\\nCASES   AGE CATEGORY      EDUCATION  GENERAL\\nVOTES  \\\n",
       "0   MALE              52  52.0       ST      12th Pass          376892   \n",
       "1   MALE               0  54.0       ST  Post Graduate          318665   \n",
       "2   MALE               3  52.0       ST      12th Pass          314057   \n",
       "3    NaN             NaN   NaN      NaN            NaN           13030   \n",
       "4   MALE               5  58.0       SC      Doctorate          644459   \n",
       "\n",
       "   POSTAL\\nVOTES  TOTAL\\nVOTES  TOTAL ELECTORS  \n",
       "0            482        377374         1489790  \n",
       "1            149        318814         1489790  \n",
       "2            181        314238         1489790  \n",
       "3              6         13036         1489790  \n",
       "4           2416        646875         1937690  "
      ]
     },
     "execution_count": 2,
     "metadata": {},
     "output_type": "execute_result"
    }
   ],
   "source": [
    "dataset = pd.read_csv(r\"D:\\DSA\\week11\\elec_final.csv\")\n",
    "dataset.head()"
   ]
  },
  {
   "cell_type": "markdown",
   "id": "e700ec9d",
   "metadata": {},
   "source": [
    "- The data is about the 2019 India general election candidates and the votes obatined"
   ]
  },
  {
   "cell_type": "code",
   "execution_count": 39,
   "id": "9dc5d257",
   "metadata": {},
   "outputs": [
    {
     "name": "stdout",
     "output_type": "stream",
     "text": [
      "<class 'pandas.core.frame.DataFrame'>\n",
      "Int64Index: 2018 entries, 0 to 2261\n",
      "Data columns (total 15 columns):\n",
      " #   Column          Non-Null Count  Dtype  \n",
      "---  ------          --------------  -----  \n",
      " 0   STATE           2018 non-null   int64  \n",
      " 1   CONSTITUENCY    2018 non-null   int64  \n",
      " 2   NAME            2018 non-null   int64  \n",
      " 3   WINNER          2018 non-null   int64  \n",
      " 4   PARTY           2018 non-null   int64  \n",
      " 5   SYMBOL          2018 non-null   int32  \n",
      " 6   GENDER          2018 non-null   int32  \n",
      " 7   CRIMINAL_CASES  2018 non-null   int32  \n",
      " 8   AGE             2018 non-null   float64\n",
      " 9   CATEGORY        2018 non-null   int32  \n",
      " 10  EDUCATION       2018 non-null   int64  \n",
      " 11  GENERAL_VOTES   2018 non-null   int64  \n",
      " 12  POSTAL_VOTES    2018 non-null   float64\n",
      " 13  TOTAL_VOTES     2018 non-null   int64  \n",
      " 14  TOTAL_ELECTORS  2018 non-null   float64\n",
      "dtypes: float64(3), int32(4), int64(8)\n",
      "memory usage: 285.3 KB\n"
     ]
    }
   ],
   "source": [
    "dataset.info()"
   ]
  },
  {
   "cell_type": "markdown",
   "id": "0d901f40",
   "metadata": {},
   "source": [
    "### Renaming invalid column names"
   ]
  },
  {
   "cell_type": "markdown",
   "id": "535b886c",
   "metadata": {},
   "source": [
    "- fixing the incorrect column names and replace all the spaces in column names with underscores (‘_’) for easy data manipulation in the later stages"
   ]
  },
  {
   "cell_type": "code",
   "execution_count": 40,
   "id": "847fd4ea",
   "metadata": {},
   "outputs": [],
   "source": [
    "dataset = dataset.rename(columns={'CRIMINAL\\nCASES': 'CRIMINAL_CASES', 'GENERAL\\nVOTES': 'GENERAL_VOTES', 'POSTAL\\nVOTES': 'POSTAL_VOTES', 'TOTAL\\nVOTES': 'TOTAL_VOTES','TOTAL ELECTORS': 'TOTAL_ELECTORS'})"
   ]
  },
  {
   "cell_type": "code",
   "execution_count": 41,
   "id": "c59b647f",
   "metadata": {
    "scrolled": true
   },
   "outputs": [
    {
     "data": {
      "text/html": [
       "<div>\n",
       "<style scoped>\n",
       "    .dataframe tbody tr th:only-of-type {\n",
       "        vertical-align: middle;\n",
       "    }\n",
       "\n",
       "    .dataframe tbody tr th {\n",
       "        vertical-align: top;\n",
       "    }\n",
       "\n",
       "    .dataframe thead th {\n",
       "        text-align: right;\n",
       "    }\n",
       "</style>\n",
       "<table border=\"1\" class=\"dataframe\">\n",
       "  <thead>\n",
       "    <tr style=\"text-align: right;\">\n",
       "      <th></th>\n",
       "      <th>STATE</th>\n",
       "      <th>CONSTITUENCY</th>\n",
       "      <th>NAME</th>\n",
       "      <th>WINNER</th>\n",
       "      <th>PARTY</th>\n",
       "      <th>SYMBOL</th>\n",
       "      <th>GENDER</th>\n",
       "      <th>CRIMINAL_CASES</th>\n",
       "      <th>AGE</th>\n",
       "      <th>CATEGORY</th>\n",
       "      <th>EDUCATION</th>\n",
       "      <th>GENERAL_VOTES</th>\n",
       "      <th>POSTAL_VOTES</th>\n",
       "      <th>TOTAL_VOTES</th>\n",
       "      <th>TOTAL_ELECTORS</th>\n",
       "    </tr>\n",
       "  </thead>\n",
       "  <tbody>\n",
       "    <tr>\n",
       "      <th>count</th>\n",
       "      <td>2018.000000</td>\n",
       "      <td>2018.000000</td>\n",
       "      <td>2018.000000</td>\n",
       "      <td>2018.000000</td>\n",
       "      <td>2018.000000</td>\n",
       "      <td>2018.000000</td>\n",
       "      <td>2018.000000</td>\n",
       "      <td>2018.000000</td>\n",
       "      <td>2018.000000</td>\n",
       "      <td>2018.000000</td>\n",
       "      <td>2018.000000</td>\n",
       "      <td>2.018000e+03</td>\n",
       "      <td>2018.000000</td>\n",
       "      <td>2.018000e+03</td>\n",
       "      <td>2.018000e+03</td>\n",
       "    </tr>\n",
       "    <tr>\n",
       "      <th>mean</th>\n",
       "      <td>20.216056</td>\n",
       "      <td>274.144698</td>\n",
       "      <td>1006.072349</td>\n",
       "      <td>0.267096</td>\n",
       "      <td>49.656591</td>\n",
       "      <td>60.872646</td>\n",
       "      <td>0.872151</td>\n",
       "      <td>1.453915</td>\n",
       "      <td>52.273538</td>\n",
       "      <td>0.430624</td>\n",
       "      <td>5.731417</td>\n",
       "      <td>2.911903e+05</td>\n",
       "      <td>769.346383</td>\n",
       "      <td>2.922954e+05</td>\n",
       "      <td>1.685640e+06</td>\n",
       "    </tr>\n",
       "    <tr>\n",
       "      <th>std</th>\n",
       "      <td>11.387435</td>\n",
       "      <td>157.676683</td>\n",
       "      <td>581.662987</td>\n",
       "      <td>0.442553</td>\n",
       "      <td>29.798173</td>\n",
       "      <td>25.868056</td>\n",
       "      <td>0.334005</td>\n",
       "      <td>7.636973</td>\n",
       "      <td>11.869373</td>\n",
       "      <td>0.697324</td>\n",
       "      <td>3.785421</td>\n",
       "      <td>2.545964e+05</td>\n",
       "      <td>891.360334</td>\n",
       "      <td>2.555874e+05</td>\n",
       "      <td>1.961855e+05</td>\n",
       "    </tr>\n",
       "    <tr>\n",
       "      <th>min</th>\n",
       "      <td>0.000000</td>\n",
       "      <td>0.000000</td>\n",
       "      <td>0.000000</td>\n",
       "      <td>0.000000</td>\n",
       "      <td>0.000000</td>\n",
       "      <td>0.000000</td>\n",
       "      <td>0.000000</td>\n",
       "      <td>0.000000</td>\n",
       "      <td>25.000000</td>\n",
       "      <td>0.000000</td>\n",
       "      <td>0.000000</td>\n",
       "      <td>1.339000e+03</td>\n",
       "      <td>0.000000</td>\n",
       "      <td>1.342000e+03</td>\n",
       "      <td>1.195720e+06</td>\n",
       "    </tr>\n",
       "    <tr>\n",
       "      <th>25%</th>\n",
       "      <td>11.000000</td>\n",
       "      <td>135.000000</td>\n",
       "      <td>502.250000</td>\n",
       "      <td>0.000000</td>\n",
       "      <td>26.000000</td>\n",
       "      <td>48.000000</td>\n",
       "      <td>1.000000</td>\n",
       "      <td>0.000000</td>\n",
       "      <td>43.250000</td>\n",
       "      <td>0.000000</td>\n",
       "      <td>3.000000</td>\n",
       "      <td>3.047625e+04</td>\n",
       "      <td>97.000000</td>\n",
       "      <td>3.074375e+04</td>\n",
       "      <td>1.562283e+06</td>\n",
       "    </tr>\n",
       "    <tr>\n",
       "      <th>50%</th>\n",
       "      <td>19.000000</td>\n",
       "      <td>279.000000</td>\n",
       "      <td>1006.500000</td>\n",
       "      <td>0.000000</td>\n",
       "      <td>46.000000</td>\n",
       "      <td>66.000000</td>\n",
       "      <td>1.000000</td>\n",
       "      <td>0.000000</td>\n",
       "      <td>52.000000</td>\n",
       "      <td>0.000000</td>\n",
       "      <td>5.000000</td>\n",
       "      <td>2.846300e+05</td>\n",
       "      <td>462.500000</td>\n",
       "      <td>2.855250e+05</td>\n",
       "      <td>1.679891e+06</td>\n",
       "    </tr>\n",
       "    <tr>\n",
       "      <th>75%</th>\n",
       "      <td>31.000000</td>\n",
       "      <td>413.750000</td>\n",
       "      <td>1510.750000</td>\n",
       "      <td>1.000000</td>\n",
       "      <td>47.000000</td>\n",
       "      <td>80.000000</td>\n",
       "      <td>1.000000</td>\n",
       "      <td>1.000000</td>\n",
       "      <td>61.000000</td>\n",
       "      <td>1.000000</td>\n",
       "      <td>10.000000</td>\n",
       "      <td>5.058620e+05</td>\n",
       "      <td>1173.750000</td>\n",
       "      <td>5.076175e+05</td>\n",
       "      <td>1.809027e+06</td>\n",
       "    </tr>\n",
       "    <tr>\n",
       "      <th>max</th>\n",
       "      <td>35.000000</td>\n",
       "      <td>538.000000</td>\n",
       "      <td>2012.000000</td>\n",
       "      <td>1.000000</td>\n",
       "      <td>131.000000</td>\n",
       "      <td>125.000000</td>\n",
       "      <td>1.000000</td>\n",
       "      <td>240.000000</td>\n",
       "      <td>86.000000</td>\n",
       "      <td>2.000000</td>\n",
       "      <td>12.000000</td>\n",
       "      <td>1.066824e+06</td>\n",
       "      <td>3706.000000</td>\n",
       "      <td>1.068569e+06</td>\n",
       "      <td>2.253448e+06</td>\n",
       "    </tr>\n",
       "  </tbody>\n",
       "</table>\n",
       "</div>"
      ],
      "text/plain": [
       "             STATE  CONSTITUENCY         NAME       WINNER        PARTY  \\\n",
       "count  2018.000000   2018.000000  2018.000000  2018.000000  2018.000000   \n",
       "mean     20.216056    274.144698  1006.072349     0.267096    49.656591   \n",
       "std      11.387435    157.676683   581.662987     0.442553    29.798173   \n",
       "min       0.000000      0.000000     0.000000     0.000000     0.000000   \n",
       "25%      11.000000    135.000000   502.250000     0.000000    26.000000   \n",
       "50%      19.000000    279.000000  1006.500000     0.000000    46.000000   \n",
       "75%      31.000000    413.750000  1510.750000     1.000000    47.000000   \n",
       "max      35.000000    538.000000  2012.000000     1.000000   131.000000   \n",
       "\n",
       "            SYMBOL       GENDER  CRIMINAL_CASES          AGE     CATEGORY  \\\n",
       "count  2018.000000  2018.000000     2018.000000  2018.000000  2018.000000   \n",
       "mean     60.872646     0.872151        1.453915    52.273538     0.430624   \n",
       "std      25.868056     0.334005        7.636973    11.869373     0.697324   \n",
       "min       0.000000     0.000000        0.000000    25.000000     0.000000   \n",
       "25%      48.000000     1.000000        0.000000    43.250000     0.000000   \n",
       "50%      66.000000     1.000000        0.000000    52.000000     0.000000   \n",
       "75%      80.000000     1.000000        1.000000    61.000000     1.000000   \n",
       "max     125.000000     1.000000      240.000000    86.000000     2.000000   \n",
       "\n",
       "         EDUCATION  GENERAL_VOTES  POSTAL_VOTES   TOTAL_VOTES  TOTAL_ELECTORS  \n",
       "count  2018.000000   2.018000e+03   2018.000000  2.018000e+03    2.018000e+03  \n",
       "mean      5.731417   2.911903e+05    769.346383  2.922954e+05    1.685640e+06  \n",
       "std       3.785421   2.545964e+05    891.360334  2.555874e+05    1.961855e+05  \n",
       "min       0.000000   1.339000e+03      0.000000  1.342000e+03    1.195720e+06  \n",
       "25%       3.000000   3.047625e+04     97.000000  3.074375e+04    1.562283e+06  \n",
       "50%       5.000000   2.846300e+05    462.500000  2.855250e+05    1.679891e+06  \n",
       "75%      10.000000   5.058620e+05   1173.750000  5.076175e+05    1.809027e+06  \n",
       "max      12.000000   1.066824e+06   3706.000000  1.068569e+06    2.253448e+06  "
      ]
     },
     "execution_count": 41,
     "metadata": {},
     "output_type": "execute_result"
    }
   ],
   "source": [
    "dataset.describe()"
   ]
  },
  {
   "cell_type": "markdown",
   "id": "376b2acd",
   "metadata": {},
   "source": [
    "# 2)Pre-processing"
   ]
  },
  {
   "cell_type": "markdown",
   "id": "e2f595d8",
   "metadata": {},
   "source": [
    "### Checking for missing values"
   ]
  },
  {
   "cell_type": "code",
   "execution_count": 42,
   "id": "b939804f",
   "metadata": {},
   "outputs": [
    {
     "data": {
      "text/plain": [
       "STATE             0\n",
       "CONSTITUENCY      0\n",
       "NAME              0\n",
       "WINNER            0\n",
       "PARTY             0\n",
       "SYMBOL            0\n",
       "GENDER            0\n",
       "CRIMINAL_CASES    0\n",
       "AGE               0\n",
       "CATEGORY          0\n",
       "EDUCATION         0\n",
       "GENERAL_VOTES     0\n",
       "POSTAL_VOTES      0\n",
       "TOTAL_VOTES       0\n",
       "TOTAL_ELECTORS    0\n",
       "dtype: int64"
      ]
     },
     "execution_count": 42,
     "metadata": {},
     "output_type": "execute_result"
    }
   ],
   "source": [
    "dataset.isna().sum()"
   ]
  },
  {
   "cell_type": "markdown",
   "id": "aef7ce52",
   "metadata": {},
   "source": [
    "- Almost 10 percentage of the data seems missing"
   ]
  },
  {
   "cell_type": "markdown",
   "id": "03c1f8e4",
   "metadata": {},
   "source": [
    "### Some data cleaning and manipulation"
   ]
  },
  {
   "cell_type": "markdown",
   "id": "f0a01627",
   "metadata": {},
   "source": [
    "- Drop rows with NA values"
   ]
  },
  {
   "cell_type": "code",
   "execution_count": 43,
   "id": "416fc835",
   "metadata": {},
   "outputs": [],
   "source": [
    "dataset = dataset[dataset['GENDER'].notna()]"
   ]
  },
  {
   "cell_type": "markdown",
   "id": "e06dd5e4",
   "metadata": {},
   "source": [
    "### Replacing Nil values with 0"
   ]
  },
  {
   "cell_type": "code",
   "execution_count": 44,
   "id": "4a592466",
   "metadata": {},
   "outputs": [],
   "source": [
    "dataset['CRIMINAL_CASES'] = dataset['CRIMINAL_CASES'].replace(['Not Available'], '0')"
   ]
  },
  {
   "cell_type": "markdown",
   "id": "30c7673a",
   "metadata": {},
   "source": [
    "- Cleaning column values. removing unwanted symbols and new line charachters from the table"
   ]
  },
  {
   "cell_type": "code",
   "execution_count": 45,
   "id": "5f572b00",
   "metadata": {},
   "outputs": [],
   "source": [
    "dataset['CRIMINAL_CASES'] = dataset['CRIMINAL_CASES'].astype(str).astype(int)"
   ]
  },
  {
   "cell_type": "code",
   "execution_count": 46,
   "id": "6685a5c2",
   "metadata": {},
   "outputs": [
    {
     "name": "stdout",
     "output_type": "stream",
     "text": [
      "<class 'pandas.core.frame.DataFrame'>\n",
      "Int64Index: 2018 entries, 0 to 2261\n",
      "Data columns (total 15 columns):\n",
      " #   Column          Non-Null Count  Dtype  \n",
      "---  ------          --------------  -----  \n",
      " 0   STATE           2018 non-null   int64  \n",
      " 1   CONSTITUENCY    2018 non-null   int64  \n",
      " 2   NAME            2018 non-null   int64  \n",
      " 3   WINNER          2018 non-null   int64  \n",
      " 4   PARTY           2018 non-null   int64  \n",
      " 5   SYMBOL          2018 non-null   int32  \n",
      " 6   GENDER          2018 non-null   int32  \n",
      " 7   CRIMINAL_CASES  2018 non-null   int32  \n",
      " 8   AGE             2018 non-null   float64\n",
      " 9   CATEGORY        2018 non-null   int32  \n",
      " 10  EDUCATION       2018 non-null   int64  \n",
      " 11  GENERAL_VOTES   2018 non-null   int64  \n",
      " 12  POSTAL_VOTES    2018 non-null   float64\n",
      " 13  TOTAL_VOTES     2018 non-null   int64  \n",
      " 14  TOTAL_ELECTORS  2018 non-null   float64\n",
      "dtypes: float64(3), int32(4), int64(8)\n",
      "memory usage: 220.7 KB\n"
     ]
    }
   ],
   "source": [
    "dataset.info()"
   ]
  },
  {
   "cell_type": "code",
   "execution_count": 47,
   "id": "7072075b",
   "metadata": {},
   "outputs": [
    {
     "data": {
      "text/plain": [
       "STATE             0\n",
       "CONSTITUENCY      0\n",
       "NAME              0\n",
       "WINNER            0\n",
       "PARTY             0\n",
       "SYMBOL            0\n",
       "GENDER            0\n",
       "CRIMINAL_CASES    0\n",
       "AGE               0\n",
       "CATEGORY          0\n",
       "EDUCATION         0\n",
       "GENERAL_VOTES     0\n",
       "POSTAL_VOTES      0\n",
       "TOTAL_VOTES       0\n",
       "TOTAL_ELECTORS    0\n",
       "dtype: int64"
      ]
     },
     "execution_count": 47,
     "metadata": {},
     "output_type": "execute_result"
    }
   ],
   "source": [
    "dataset.isna().sum()"
   ]
  },
  {
   "cell_type": "code",
   "execution_count": 48,
   "id": "5b1814f6",
   "metadata": {},
   "outputs": [
    {
     "data": {
      "text/html": [
       "<div>\n",
       "<style scoped>\n",
       "    .dataframe tbody tr th:only-of-type {\n",
       "        vertical-align: middle;\n",
       "    }\n",
       "\n",
       "    .dataframe tbody tr th {\n",
       "        vertical-align: top;\n",
       "    }\n",
       "\n",
       "    .dataframe thead th {\n",
       "        text-align: right;\n",
       "    }\n",
       "</style>\n",
       "<table border=\"1\" class=\"dataframe\">\n",
       "  <thead>\n",
       "    <tr style=\"text-align: right;\">\n",
       "      <th></th>\n",
       "      <th>STATE</th>\n",
       "      <th>CONSTITUENCY</th>\n",
       "      <th>NAME</th>\n",
       "      <th>WINNER</th>\n",
       "      <th>PARTY</th>\n",
       "      <th>SYMBOL</th>\n",
       "      <th>GENDER</th>\n",
       "      <th>CRIMINAL_CASES</th>\n",
       "      <th>AGE</th>\n",
       "      <th>CATEGORY</th>\n",
       "      <th>EDUCATION</th>\n",
       "      <th>GENERAL_VOTES</th>\n",
       "      <th>POSTAL_VOTES</th>\n",
       "      <th>TOTAL_VOTES</th>\n",
       "      <th>TOTAL_ELECTORS</th>\n",
       "    </tr>\n",
       "  </thead>\n",
       "  <tbody>\n",
       "    <tr>\n",
       "      <th>0</th>\n",
       "      <td>31</td>\n",
       "      <td>0</td>\n",
       "      <td>1712</td>\n",
       "      <td>1</td>\n",
       "      <td>26</td>\n",
       "      <td>80</td>\n",
       "      <td>1</td>\n",
       "      <td>52</td>\n",
       "      <td>52.0</td>\n",
       "      <td>2</td>\n",
       "      <td>1</td>\n",
       "      <td>376892</td>\n",
       "      <td>482.0</td>\n",
       "      <td>377374</td>\n",
       "      <td>1489790.0</td>\n",
       "    </tr>\n",
       "    <tr>\n",
       "      <th>1</th>\n",
       "      <td>31</td>\n",
       "      <td>0</td>\n",
       "      <td>700</td>\n",
       "      <td>0</td>\n",
       "      <td>119</td>\n",
       "      <td>32</td>\n",
       "      <td>1</td>\n",
       "      <td>0</td>\n",
       "      <td>54.0</td>\n",
       "      <td>2</td>\n",
       "      <td>11</td>\n",
       "      <td>318665</td>\n",
       "      <td>149.0</td>\n",
       "      <td>318814</td>\n",
       "      <td>1489790.0</td>\n",
       "    </tr>\n",
       "    <tr>\n",
       "      <th>2</th>\n",
       "      <td>31</td>\n",
       "      <td>0</td>\n",
       "      <td>1497</td>\n",
       "      <td>0</td>\n",
       "      <td>46</td>\n",
       "      <td>66</td>\n",
       "      <td>1</td>\n",
       "      <td>3</td>\n",
       "      <td>52.0</td>\n",
       "      <td>2</td>\n",
       "      <td>1</td>\n",
       "      <td>314057</td>\n",
       "      <td>181.0</td>\n",
       "      <td>314238</td>\n",
       "      <td>1489790.0</td>\n",
       "    </tr>\n",
       "    <tr>\n",
       "      <th>4</th>\n",
       "      <td>33</td>\n",
       "      <td>1</td>\n",
       "      <td>1788</td>\n",
       "      <td>1</td>\n",
       "      <td>26</td>\n",
       "      <td>80</td>\n",
       "      <td>1</td>\n",
       "      <td>5</td>\n",
       "      <td>58.0</td>\n",
       "      <td>1</td>\n",
       "      <td>4</td>\n",
       "      <td>644459</td>\n",
       "      <td>2416.0</td>\n",
       "      <td>646875</td>\n",
       "      <td>1937690.0</td>\n",
       "    </tr>\n",
       "    <tr>\n",
       "      <th>5</th>\n",
       "      <td>33</td>\n",
       "      <td>1</td>\n",
       "      <td>1118</td>\n",
       "      <td>0</td>\n",
       "      <td>35</td>\n",
       "      <td>49</td>\n",
       "      <td>1</td>\n",
       "      <td>0</td>\n",
       "      <td>47.0</td>\n",
       "      <td>1</td>\n",
       "      <td>11</td>\n",
       "      <td>434199</td>\n",
       "      <td>1130.0</td>\n",
       "      <td>435329</td>\n",
       "      <td>1937690.0</td>\n",
       "    </tr>\n",
       "  </tbody>\n",
       "</table>\n",
       "</div>"
      ],
      "text/plain": [
       "   STATE  CONSTITUENCY  NAME  WINNER  PARTY  SYMBOL  GENDER  CRIMINAL_CASES  \\\n",
       "0     31             0  1712       1     26      80       1              52   \n",
       "1     31             0   700       0    119      32       1               0   \n",
       "2     31             0  1497       0     46      66       1               3   \n",
       "4     33             1  1788       1     26      80       1               5   \n",
       "5     33             1  1118       0     35      49       1               0   \n",
       "\n",
       "    AGE  CATEGORY  EDUCATION  GENERAL_VOTES  POSTAL_VOTES  TOTAL_VOTES  \\\n",
       "0  52.0         2          1         376892         482.0       377374   \n",
       "1  54.0         2         11         318665         149.0       318814   \n",
       "2  52.0         2          1         314057         181.0       314238   \n",
       "4  58.0         1          4         644459        2416.0       646875   \n",
       "5  47.0         1         11         434199        1130.0       435329   \n",
       "\n",
       "   TOTAL_ELECTORS  \n",
       "0       1489790.0  \n",
       "1       1489790.0  \n",
       "2       1489790.0  \n",
       "4       1937690.0  \n",
       "5       1937690.0  "
      ]
     },
     "execution_count": 48,
     "metadata": {},
     "output_type": "execute_result"
    }
   ],
   "source": [
    "dataset.head()"
   ]
  },
  {
   "cell_type": "markdown",
   "id": "c49e6abc",
   "metadata": {},
   "source": [
    "- The data set is somewhat better than the raw form. we filled missing values and cleaned it for further analysis"
   ]
  },
  {
   "cell_type": "markdown",
   "id": "3d68d8ac",
   "metadata": {},
   "source": [
    "### Outliers detection and handling\n"
   ]
  },
  {
   "cell_type": "markdown",
   "id": "b8adcaa2",
   "metadata": {},
   "source": [
    "#### a)AGE"
   ]
  },
  {
   "cell_type": "code",
   "execution_count": 49,
   "id": "9806e15f",
   "metadata": {},
   "outputs": [
    {
     "data": {
      "text/plain": [
       "Text(0.5, 1.0, 'Boxplot of Age')"
      ]
     },
     "execution_count": 49,
     "metadata": {},
     "output_type": "execute_result"
    },
    {
     "data": {
      "image/png": "[encoded data removed]",
      "text/plain": [
       "<Figure size 432x288 with 1 Axes>"
      ]
     },
     "metadata": {
      "needs_background": "light"
     },
     "output_type": "display_data"
    }
   ],
   "source": [
    "plt.boxplot(dataset[\"AGE\"])\n",
    "plt.title(\"Boxplot of Age\")"
   ]
  },
  {
   "cell_type": "markdown",
   "id": "d4921eb9",
   "metadata": {},
   "source": [
    "There is no outliers"
   ]
  },
  {
   "cell_type": "markdown",
   "id": "d5421f02",
   "metadata": {},
   "source": [
    "#### b)TOTAL_ELECTORS"
   ]
  },
  {
   "cell_type": "code",
   "execution_count": 50,
   "id": "5e32a564",
   "metadata": {},
   "outputs": [
    {
     "data": {
      "text/plain": [
       "Text(0.5, 1.0, 'Boxplot of TOTAL_ELECTORS')"
      ]
     },
     "execution_count": 50,
     "metadata": {},
     "output_type": "execute_result"
    },
    {
     "data": {
      "image/png": "[encoded data removed]",
      "text/plain": [
       "<Figure size 432x288 with 1 Axes>"
      ]
     },
     "metadata": {
      "needs_background": "light"
     },
     "output_type": "display_data"
    }
   ],
   "source": [
    "plt.boxplot(dataset[\"TOTAL_ELECTORS\"])\n",
    "plt.title(\"Boxplot of TOTAL_ELECTORS\")"
   ]
  },
  {
   "cell_type": "code",
   "execution_count": 51,
   "id": "1fddbaa6",
   "metadata": {},
   "outputs": [
    {
     "name": "stdout",
     "output_type": "stream",
     "text": [
      "1562283.0 1679891.0 1808944.5\n"
     ]
    },
    {
     "data": {
      "text/plain": [
       "[2204817.0,\n",
       " 2204817.0,\n",
       " 2204817.0,\n",
       " 2215489.0,\n",
       " 2215489.0,\n",
       " 2181319.0,\n",
       " 2181319.0,\n",
       " 2181319.0,\n",
       " 2253448.0,\n",
       " 2253448.0,\n",
       " 2253448.0,\n",
       " 2253448.0,\n",
       " 2253448.0,\n",
       " 2191465.0,\n",
       " 2191465.0,\n",
       " 2191465.0]"
      ]
     },
     "execution_count": 51,
     "metadata": {},
     "output_type": "execute_result"
    }
   ],
   "source": [
    "Q1=np.percentile(dataset[\"TOTAL_ELECTORS\"],25,interpolation=\"midpoint\")\n",
    "Q2=np.percentile(dataset[\"TOTAL_ELECTORS\"],50,interpolation=\"midpoint\")\n",
    "Q3=np.percentile(dataset[\"TOTAL_ELECTORS\"],75,interpolation=\"midpoint\")\n",
    "print(Q1,Q2,Q3)\n",
    "IQR=Q3-Q1\n",
    "low_lim=Q1-1.5*IQR\n",
    "up_lim=Q3+1.5*IQR\n",
    "outlier=[]\n",
    "for x in dataset[\"TOTAL_ELECTORS\"]:\n",
    "    if(x>up_lim)or(x<low_lim):\n",
    "        outlier.append(x) \n",
    "outlier        "
   ]
  },
  {
   "cell_type": "code",
   "execution_count": 52,
   "id": "09dbaa17",
   "metadata": {},
   "outputs": [],
   "source": [
    "median=float(np.median(dataset[\"TOTAL_ELECTORS\"]))\n",
    "for i in outlier:\n",
    "    dataset.loc[dataset[\"TOTAL_ELECTORS\"]==i,\"TOTAL_ELECTORS\"]=np.nan\n",
    "dataset[\"TOTAL_ELECTORS\"].fillna(median,inplace=True)"
   ]
  },
  {
   "cell_type": "code",
   "execution_count": 53,
   "id": "ecfa0195",
   "metadata": {},
   "outputs": [
    {
     "data": {
      "text/plain": [
       "Text(0.5, 1.0, 'Boxplot of TOTAL_ELECTORS')"
      ]
     },
     "execution_count": 53,
     "metadata": {},
     "output_type": "execute_result"
    },
    {
     "data": {
      "image/png": "[encoded data removed]",
      "text/plain": [
       "<Figure size 432x288 with 1 Axes>"
      ]
     },
     "metadata": {
      "needs_background": "light"
     },
     "output_type": "display_data"
    }
   ],
   "source": [
    "plt.boxplot(dataset[\"TOTAL_ELECTORS\"])\n",
    "plt.title(\"Boxplot of TOTAL_ELECTORS\")"
   ]
  },
  {
   "cell_type": "markdown",
   "id": "ca2d8bd2",
   "metadata": {},
   "source": [
    "#### c)POSTAL_VOTES"
   ]
  },
  {
   "cell_type": "code",
   "execution_count": 54,
   "id": "5a436b2e",
   "metadata": {},
   "outputs": [
    {
     "data": {
      "text/plain": [
       "Text(0.5, 1.0, 'Boxplot of POSTAL_VOTES ')"
      ]
     },
     "execution_count": 54,
     "metadata": {},
     "output_type": "execute_result"
    },
    {
     "data": {
      "image/png": "[encoded data removed]",
      "text/plain": [
       "<Figure size 432x288 with 1 Axes>"
      ]
     },
     "metadata": {
      "needs_background": "light"
     },
     "output_type": "display_data"
    }
   ],
   "source": [
    "plt.boxplot(dataset[\"POSTAL_VOTES\"])\n",
    "plt.title(\"Boxplot of POSTAL_VOTES \")"
   ]
  },
  {
   "cell_type": "code",
   "execution_count": 55,
   "id": "d5db961a",
   "metadata": {},
   "outputs": [
    {
     "name": "stdout",
     "output_type": "stream",
     "text": [
      "97.0 462.5 1172.5\n"
     ]
    },
    {
     "data": {
      "text/plain": [
       "[3381.0,\n",
       " 3679.0,\n",
       " 2967.0,\n",
       " 3016.0,\n",
       " 3436.0,\n",
       " 3103.0,\n",
       " 3447.0,\n",
       " 3016.0,\n",
       " 3183.0,\n",
       " 3557.0,\n",
       " 2976.0,\n",
       " 3243.0,\n",
       " 3187.0,\n",
       " 3458.0,\n",
       " 3117.0,\n",
       " 3009.0,\n",
       " 3547.0,\n",
       " 3167.0,\n",
       " 3380.0,\n",
       " 3043.0,\n",
       " 2973.0,\n",
       " 2996.0,\n",
       " 3409.0,\n",
       " 2960.0,\n",
       " 2852.0,\n",
       " 3252.0,\n",
       " 2831.0,\n",
       " 3027.0,\n",
       " 2985.0,\n",
       " 3222.0,\n",
       " 3494.0,\n",
       " 3265.0,\n",
       " 3528.0,\n",
       " 3502.0,\n",
       " 3110.0,\n",
       " 3194.0,\n",
       " 2873.0,\n",
       " 3000.0,\n",
       " 2920.0,\n",
       " 3338.0,\n",
       " 3071.0,\n",
       " 3017.0,\n",
       " 3074.0,\n",
       " 3210.0,\n",
       " 3643.0,\n",
       " 3396.0,\n",
       " 2860.0,\n",
       " 2975.0,\n",
       " 3531.0,\n",
       " 3364.0,\n",
       " 2857.0,\n",
       " 2900.0,\n",
       " 2815.0,\n",
       " 3364.0,\n",
       " 3410.0,\n",
       " 3329.0,\n",
       " 2815.0,\n",
       " 3406.0,\n",
       " 3324.0,\n",
       " 2866.0,\n",
       " 3123.0,\n",
       " 2923.0,\n",
       " 2829.0,\n",
       " 2839.0,\n",
       " 3447.0,\n",
       " 3559.0,\n",
       " 3208.0,\n",
       " 3243.0,\n",
       " 2804.0,\n",
       " 3296.0,\n",
       " 2923.0,\n",
       " 3309.0,\n",
       " 2878.0,\n",
       " 2971.0,\n",
       " 3000.0,\n",
       " 3555.0,\n",
       " 3325.0,\n",
       " 3706.0,\n",
       " 3553.0,\n",
       " 3349.0,\n",
       " 3486.0,\n",
       " 3174.0,\n",
       " 3000.0,\n",
       " 3311.0,\n",
       " 2944.0,\n",
       " 2885.0,\n",
       " 2994.0,\n",
       " 2948.0,\n",
       " 2837.0,\n",
       " 3235.0,\n",
       " 3371.0,\n",
       " 3179.0,\n",
       " 3676.0,\n",
       " 2797.0,\n",
       " 3199.0,\n",
       " 2798.0,\n",
       " 2932.0,\n",
       " 3511.0,\n",
       " 2831.0,\n",
       " 2814.0,\n",
       " 2910.0,\n",
       " 2938.0,\n",
       " 3075.0,\n",
       " 2876.0,\n",
       " 3590.0]"
      ]
     },
     "execution_count": 55,
     "metadata": {},
     "output_type": "execute_result"
    }
   ],
   "source": [
    "Q1=np.percentile(dataset[\"POSTAL_VOTES\"],25,interpolation=\"midpoint\")\n",
    "Q2=np.percentile(dataset[\"POSTAL_VOTES\"],50,interpolation=\"midpoint\")\n",
    "Q3=np.percentile(dataset[\"POSTAL_VOTES\"],75,interpolation=\"midpoint\")\n",
    "print(Q1,Q2,Q3)\n",
    "IQR=Q3-Q1\n",
    "low_lim=Q1-1.5*IQR\n",
    "up_lim=Q3+1.5*IQR\n",
    "outlier=[]\n",
    "for x in dataset[\"POSTAL_VOTES\"]:\n",
    "    if(x>up_lim)or(x<low_lim):\n",
    "        outlier.append(x) \n",
    "outlier        "
   ]
  },
  {
   "cell_type": "code",
   "execution_count": 56,
   "id": "0d91b813",
   "metadata": {},
   "outputs": [],
   "source": [
    "median=float(np.median(dataset[\"POSTAL_VOTES\"]))\n",
    "for i in outlier:\n",
    "    dataset.loc[dataset[\"POSTAL_VOTES\"]==i,\"POSTAL_VOTES\"]=np.nan\n",
    "dataset[\"POSTAL_VOTES\"].fillna(median,inplace=True)"
   ]
  },
  {
   "cell_type": "code",
   "execution_count": 57,
   "id": "5e8a779b",
   "metadata": {},
   "outputs": [
    {
     "data": {
      "text/plain": [
       "Text(0.5, 1.0, 'Boxplot of POSTAL_VOTES ')"
      ]
     },
     "execution_count": 57,
     "metadata": {},
     "output_type": "execute_result"
    },
    {
     "data": {
      "image/png": "[encoded data removed]",
      "text/plain": [
       "<Figure size 432x288 with 1 Axes>"
      ]
     },
     "metadata": {
      "needs_background": "light"
     },
     "output_type": "display_data"
    }
   ],
   "source": [
    "plt.boxplot(dataset[\"POSTAL_VOTES\"])\n",
    "plt.title(\"Boxplot of POSTAL_VOTES \")"
   ]
  },
  {
   "cell_type": "markdown",
   "id": "166f33a6",
   "metadata": {},
   "source": [
    "#### d)GENERAL_VOTES"
   ]
  },
  {
   "cell_type": "code",
   "execution_count": 58,
   "id": "ffada39c",
   "metadata": {},
   "outputs": [
    {
     "data": {
      "text/plain": [
       "Text(0.5, 1.0, 'Boxplot of GENERAL_VOTES ')"
      ]
     },
     "execution_count": 58,
     "metadata": {},
     "output_type": "execute_result"
    },
    {
     "data": {
      "image/png": "[encoded data removed]",
      "text/plain": [
       "<Figure size 432x288 with 1 Axes>"
      ]
     },
     "metadata": {
      "needs_background": "light"
     },
     "output_type": "display_data"
    }
   ],
   "source": [
    "plt.boxplot(dataset[\"GENERAL_VOTES\"])\n",
    "plt.title(\"Boxplot of GENERAL_VOTES \")"
   ]
  },
  {
   "cell_type": "markdown",
   "id": "6cb5ee02",
   "metadata": {},
   "source": [
    "There is no outliers are present"
   ]
  },
  {
   "cell_type": "markdown",
   "id": "22f43554",
   "metadata": {},
   "source": [
    "### Encoding"
   ]
  },
  {
   "cell_type": "markdown",
   "id": "218f3269",
   "metadata": {},
   "source": [
    "- encoding the non-numerical columns to numerical columns using sklearn LabelEncoder."
   ]
  },
  {
   "cell_type": "code",
   "execution_count": 59,
   "id": "ece1077a",
   "metadata": {},
   "outputs": [],
   "source": [
    "lblEncoder_symbol = LabelEncoder()\n",
    "lblEncoder_symbol.fit(dataset['SYMBOL'])\n",
    "dataset['SYMBOL'] = lblEncoder_symbol.transform(dataset['SYMBOL'])\n",
    "\n",
    "lblEncoder_gender = LabelEncoder()\n",
    "lblEncoder_gender.fit(dataset['GENDER'])\n",
    "dataset['GENDER'] = lblEncoder_gender.transform(dataset['GENDER'])\n",
    "\n",
    "lblEncoder_category = LabelEncoder()\n",
    "lblEncoder_category.fit(dataset['CATEGORY'])\n",
    "dataset['CATEGORY'] = lblEncoder_category.transform(dataset['CATEGORY'])"
   ]
  },
  {
   "cell_type": "code",
   "execution_count": 60,
   "id": "2b5f1ea5",
   "metadata": {},
   "outputs": [
    {
     "data": {
      "text/html": [
       "<div>\n",
       "<style scoped>\n",
       "    .dataframe tbody tr th:only-of-type {\n",
       "        vertical-align: middle;\n",
       "    }\n",
       "\n",
       "    .dataframe tbody tr th {\n",
       "        vertical-align: top;\n",
       "    }\n",
       "\n",
       "    .dataframe thead th {\n",
       "        text-align: right;\n",
       "    }\n",
       "</style>\n",
       "<table border=\"1\" class=\"dataframe\">\n",
       "  <thead>\n",
       "    <tr style=\"text-align: right;\">\n",
       "      <th></th>\n",
       "      <th>STATE</th>\n",
       "      <th>CONSTITUENCY</th>\n",
       "      <th>NAME</th>\n",
       "      <th>WINNER</th>\n",
       "      <th>PARTY</th>\n",
       "      <th>SYMBOL</th>\n",
       "      <th>GENDER</th>\n",
       "      <th>CRIMINAL_CASES</th>\n",
       "      <th>AGE</th>\n",
       "      <th>CATEGORY</th>\n",
       "      <th>EDUCATION</th>\n",
       "      <th>GENERAL_VOTES</th>\n",
       "      <th>POSTAL_VOTES</th>\n",
       "      <th>TOTAL_VOTES</th>\n",
       "      <th>TOTAL_ELECTORS</th>\n",
       "    </tr>\n",
       "  </thead>\n",
       "  <tbody>\n",
       "    <tr>\n",
       "      <th>0</th>\n",
       "      <td>31</td>\n",
       "      <td>0</td>\n",
       "      <td>1712</td>\n",
       "      <td>1</td>\n",
       "      <td>26</td>\n",
       "      <td>80</td>\n",
       "      <td>1</td>\n",
       "      <td>52</td>\n",
       "      <td>52.0</td>\n",
       "      <td>2</td>\n",
       "      <td>1</td>\n",
       "      <td>376892</td>\n",
       "      <td>482.0</td>\n",
       "      <td>377374</td>\n",
       "      <td>1489790.0</td>\n",
       "    </tr>\n",
       "    <tr>\n",
       "      <th>1</th>\n",
       "      <td>31</td>\n",
       "      <td>0</td>\n",
       "      <td>700</td>\n",
       "      <td>0</td>\n",
       "      <td>119</td>\n",
       "      <td>32</td>\n",
       "      <td>1</td>\n",
       "      <td>0</td>\n",
       "      <td>54.0</td>\n",
       "      <td>2</td>\n",
       "      <td>11</td>\n",
       "      <td>318665</td>\n",
       "      <td>149.0</td>\n",
       "      <td>318814</td>\n",
       "      <td>1489790.0</td>\n",
       "    </tr>\n",
       "    <tr>\n",
       "      <th>2</th>\n",
       "      <td>31</td>\n",
       "      <td>0</td>\n",
       "      <td>1497</td>\n",
       "      <td>0</td>\n",
       "      <td>46</td>\n",
       "      <td>66</td>\n",
       "      <td>1</td>\n",
       "      <td>3</td>\n",
       "      <td>52.0</td>\n",
       "      <td>2</td>\n",
       "      <td>1</td>\n",
       "      <td>314057</td>\n",
       "      <td>181.0</td>\n",
       "      <td>314238</td>\n",
       "      <td>1489790.0</td>\n",
       "    </tr>\n",
       "    <tr>\n",
       "      <th>4</th>\n",
       "      <td>33</td>\n",
       "      <td>1</td>\n",
       "      <td>1788</td>\n",
       "      <td>1</td>\n",
       "      <td>26</td>\n",
       "      <td>80</td>\n",
       "      <td>1</td>\n",
       "      <td>5</td>\n",
       "      <td>58.0</td>\n",
       "      <td>1</td>\n",
       "      <td>4</td>\n",
       "      <td>644459</td>\n",
       "      <td>2416.0</td>\n",
       "      <td>646875</td>\n",
       "      <td>1937690.0</td>\n",
       "    </tr>\n",
       "    <tr>\n",
       "      <th>5</th>\n",
       "      <td>33</td>\n",
       "      <td>1</td>\n",
       "      <td>1118</td>\n",
       "      <td>0</td>\n",
       "      <td>35</td>\n",
       "      <td>49</td>\n",
       "      <td>1</td>\n",
       "      <td>0</td>\n",
       "      <td>47.0</td>\n",
       "      <td>1</td>\n",
       "      <td>11</td>\n",
       "      <td>434199</td>\n",
       "      <td>1130.0</td>\n",
       "      <td>435329</td>\n",
       "      <td>1937690.0</td>\n",
       "    </tr>\n",
       "  </tbody>\n",
       "</table>\n",
       "</div>"
      ],
      "text/plain": [
       "   STATE  CONSTITUENCY  NAME  WINNER  PARTY  SYMBOL  GENDER  CRIMINAL_CASES  \\\n",
       "0     31             0  1712       1     26      80       1              52   \n",
       "1     31             0   700       0    119      32       1               0   \n",
       "2     31             0  1497       0     46      66       1               3   \n",
       "4     33             1  1788       1     26      80       1               5   \n",
       "5     33             1  1118       0     35      49       1               0   \n",
       "\n",
       "    AGE  CATEGORY  EDUCATION  GENERAL_VOTES  POSTAL_VOTES  TOTAL_VOTES  \\\n",
       "0  52.0         2          1         376892         482.0       377374   \n",
       "1  54.0         2         11         318665         149.0       318814   \n",
       "2  52.0         2          1         314057         181.0       314238   \n",
       "4  58.0         1          4         644459        2416.0       646875   \n",
       "5  47.0         1         11         434199        1130.0       435329   \n",
       "\n",
       "   TOTAL_ELECTORS  \n",
       "0       1489790.0  \n",
       "1       1489790.0  \n",
       "2       1489790.0  \n",
       "4       1937690.0  \n",
       "5       1937690.0  "
      ]
     },
     "execution_count": 60,
     "metadata": {},
     "output_type": "execute_result"
    }
   ],
   "source": [
    "dataset.head()"
   ]
  },
  {
   "cell_type": "markdown",
   "id": "1888654d",
   "metadata": {},
   "source": [
    "# 3)Exploratory Data Analysis\n"
   ]
  },
  {
   "cell_type": "markdown",
   "id": "b75caa77",
   "metadata": {},
   "source": [
    "### a)Univariant Analysis"
   ]
  },
  {
   "cell_type": "code",
   "execution_count": 61,
   "id": "952cd84b",
   "metadata": {},
   "outputs": [
    {
     "data": {
      "text/plain": [
       "[Text(0, 0, '1760'), Text(0, 0, '258')]"
      ]
     },
     "execution_count": 61,
     "metadata": {},
     "output_type": "execute_result"
    },
    {
     "data": {
      "image/png": "[encoded data removed]",
      "text/plain": [
       "<Figure size 432x288 with 1 Axes>"
      ]
     },
     "metadata": {
      "needs_background": "light"
     },
     "output_type": "display_data"
    }
   ],
   "source": [
    "data1=sns.countplot(x=dataset[\"GENDER\"],order=dataset['GENDER'].value_counts(ascending=False).index);\n",
    "values = dataset['GENDER'].value_counts(ascending=False).values\n",
    "data1.bar_label(container=data1.containers[0], labels=values)"
   ]
  },
  {
   "cell_type": "markdown",
   "id": "7d9f2ee5",
   "metadata": {},
   "source": [
    "                            *Total number of Male = 1760\n",
    "                            *Total number of Female = 258"
   ]
  },
  {
   "cell_type": "code",
   "execution_count": 62,
   "id": "3c3bd5bc",
   "metadata": {},
   "outputs": [
    {
     "data": {
      "text/plain": [
       "(array([ 0,  1,  2,  3,  4,  5,  6,  7,  8,  9, 10, 11, 12]),\n",
       " [Text(0, 0, '11'),\n",
       "  Text(1, 0, '5'),\n",
       "  Text(2, 0, '6'),\n",
       "  Text(3, 0, '1'),\n",
       "  Text(4, 0, '0'),\n",
       "  Text(5, 0, '3'),\n",
       "  Text(6, 0, '4'),\n",
       "  Text(7, 0, '10'),\n",
       "  Text(8, 0, '8'),\n",
       "  Text(9, 0, '2'),\n",
       "  Text(10, 0, '9'),\n",
       "  Text(11, 0, '7'),\n",
       "  Text(12, 0, '12')])"
      ]
     },
     "execution_count": 62,
     "metadata": {},
     "output_type": "execute_result"
    },
    {
     "data": {
      "image/png": "[encoded data removed]",
      "text/plain": [
       "<Figure size 720x432 with 1 Axes>"
      ]
     },
     "metadata": {
      "needs_background": "light"
     },
     "output_type": "display_data"
    }
   ],
   "source": [
    "plt.figure(figsize=(10,6))\n",
    "data1=sns.countplot(x=dataset[\"EDUCATION\"],order=dataset['EDUCATION'].value_counts(ascending=False).index);\n",
    "values = dataset['EDUCATION'].value_counts(ascending=False).values\n",
    "data1.bar_label(container=data1.containers[0], labels=values)\n",
    "plt.xticks(rotation=90)"
   ]
  },
  {
   "cell_type": "markdown",
   "id": "dae362a0",
   "metadata": {},
   "source": [
    "### b)Bivariant Analysis"
   ]
  },
  {
   "cell_type": "code",
   "execution_count": 63,
   "id": "83fcb5f6",
   "metadata": {},
   "outputs": [
    {
     "data": {
      "text/plain": [
       "(array([-5.,  0.,  5., 10., 15., 20., 25., 30., 35., 40.]),\n",
       " [Text(0, 0, ''),\n",
       "  Text(0, 0, ''),\n",
       "  Text(0, 0, ''),\n",
       "  Text(0, 0, ''),\n",
       "  Text(0, 0, ''),\n",
       "  Text(0, 0, ''),\n",
       "  Text(0, 0, ''),\n",
       "  Text(0, 0, ''),\n",
       "  Text(0, 0, ''),\n",
       "  Text(0, 0, '')])"
      ]
     },
     "execution_count": 63,
     "metadata": {},
     "output_type": "execute_result"
    },
    {
     "data": {
      "image/png": "[encoded data removed]",
      "text/plain": [
       "<Figure size 864x432 with 1 Axes>"
      ]
     },
     "metadata": {
      "needs_background": "light"
     },
     "output_type": "display_data"
    }
   ],
   "source": [
    "plt.figure(figsize=(12,6))\n",
    "sns.scatterplot(dataset[\"STATE\"],dataset[\"GENERAL_VOTES\"],dataset[\"POSTAL_VOTES\"])\n",
    "plt.xticks(rotation=90)"
   ]
  },
  {
   "cell_type": "code",
   "execution_count": 64,
   "id": "386d99a5",
   "metadata": {},
   "outputs": [
    {
     "data": {
      "text/plain": [
       "(array([-5.,  0.,  5., 10., 15., 20., 25., 30., 35., 40.]),\n",
       " [Text(0, 0, ''),\n",
       "  Text(0, 0, ''),\n",
       "  Text(0, 0, ''),\n",
       "  Text(0, 0, ''),\n",
       "  Text(0, 0, ''),\n",
       "  Text(0, 0, ''),\n",
       "  Text(0, 0, ''),\n",
       "  Text(0, 0, ''),\n",
       "  Text(0, 0, ''),\n",
       "  Text(0, 0, '')])"
      ]
     },
     "execution_count": 64,
     "metadata": {},
     "output_type": "execute_result"
    },
    {
     "data": {
      "image/png": "[encoded data removed]",
      "text/plain": [
       "<Figure size 864x2304 with 1 Axes>"
      ]
     },
     "metadata": {
      "needs_background": "light"
     },
     "output_type": "display_data"
    }
   ],
   "source": [
    "plt.figure(figsize=(12,32))\n",
    "sns.scatterplot(dataset[\"STATE\"],dataset[\"PARTY\"],dataset[\"WINNER\"])\n",
    "plt.xticks(rotation=90)"
   ]
  },
  {
   "cell_type": "markdown",
   "id": "75e44113",
   "metadata": {},
   "source": [
    "# 4)Modelling"
   ]
  },
  {
   "cell_type": "markdown",
   "id": "75e9c94d",
   "metadata": {},
   "source": [
    "- K-Nearest Neighbors model is created and tested for its accuracy. KNN is a supervised machine learning model which is categorized under classification algorithms."
   ]
  },
  {
   "cell_type": "code",
   "execution_count": 65,
   "id": "9b50a15a",
   "metadata": {},
   "outputs": [],
   "source": [
    "lblEncoder_category = LabelEncoder()\n",
    "lblEncoder_category.fit(dataset['STATE'])\n",
    "dataset['STATE'] = lblEncoder_category.transform(dataset['STATE'])\n",
    "\n",
    "lblEncoder_symbol = LabelEncoder()\n",
    "lblEncoder_symbol.fit(dataset['EDUCATION'])\n",
    "dataset['EDUCATION'] = lblEncoder_symbol.transform(dataset['EDUCATION'])\n",
    "\n",
    "lblEncoder_symbol = LabelEncoder()\n",
    "lblEncoder_symbol.fit(dataset['NAME'])\n",
    "dataset['NAME'] = lblEncoder_symbol.transform(dataset['NAME'])\n",
    "\n",
    "lblEncoder_category = LabelEncoder()\n",
    "lblEncoder_category.fit(dataset['CONSTITUENCY'])\n",
    "dataset['CONSTITUENCY'] = lblEncoder_category.transform(dataset['CONSTITUENCY'])\n",
    "\n",
    "lblEncoder_category = LabelEncoder()\n",
    "lblEncoder_category.fit(dataset['PARTY'])\n",
    "dataset['PARTY'] = lblEncoder_category.transform(dataset['PARTY'])\n"
   ]
  },
  {
   "cell_type": "code",
   "execution_count": 66,
   "id": "5f5ecbf5",
   "metadata": {},
   "outputs": [],
   "source": [
    "y = dataset[\"WINNER\"]\n",
    "X = dataset.drop(labels=[\"WINNER\"], axis=1)\n",
    "\n",
    "# splitting dataset into train and test data\n",
    "X_train, X_test, y_train, y_test = train_test_split(X, y, test_size=0.2, random_state=1, stratify=y)"
   ]
  },
  {
   "cell_type": "markdown",
   "id": "f4455b0c",
   "metadata": {},
   "source": [
    "### a)KNN"
   ]
  },
  {
   "cell_type": "code",
   "execution_count": 69,
   "id": "79da6fa4",
   "metadata": {},
   "outputs": [
    {
     "name": "stdout",
     "output_type": "stream",
     "text": [
      "ACCURACY of the model:  0.8960396039603961\n",
      "F - score of the model:  0.8657084968975561\n",
      "Precision score of the model:  0.8703205128205128\n",
      "Recall score of the model:  0.861423923923924\n",
      "Confuion Matrix \n",
      " [[277  19]\n",
      " [ 23  85]]\n"
     ]
    }
   ],
   "source": [
    "from sklearn.metrics import accuracy_score,confusion_matrix,precision_score,recall_score,f1_score\n",
    "\n",
    "y = dataset[\"WINNER\"]\n",
    "X = dataset.drop(labels=[\"WINNER\"], axis=1)\n",
    "\n",
    "# splitting dataset into train and test data\n",
    "X_train, X_test, y_train, y_test = train_test_split(X, y, test_size=0.2, random_state=1, stratify=y)\n",
    "\n",
    "# train and test knn model\n",
    "knn = KNeighborsClassifier()\n",
    "knn.fit(X_train, y_train)\n",
    "knn.predict(X_test)\n",
    "# using metrics module for accuracy calculation\n",
    "print(\"ACCURACY of the model: \", accuracy_score(y_test, y_pred))\n",
    "print(\"F - score of the model: \", f1_score(y_test, y_pred,average='macro'))\n",
    "print(\"Precision score of the model: \", precision_score(y_test, y_pred,average='macro'))\n",
    "print(\"Recall score of the model: \", recall_score(y_test, y_pred,average='macro'))\n",
    "print(\"Confuion Matrix \\n\", confusion_matrix(y_test, y_pred))"
   ]
  },
  {
   "cell_type": "markdown",
   "id": "92ddda29",
   "metadata": {},
   "source": [
    "### b)Logistic regression"
   ]
  },
  {
   "cell_type": "code",
   "execution_count": 70,
   "id": "d956264b",
   "metadata": {},
   "outputs": [
    {
     "name": "stdout",
     "output_type": "stream",
     "text": [
      "ACCURACY of the model:  0.8960396039603961\n",
      "F - score of the model:  0.8657084968975561\n",
      "Precision score of the model:  0.8703205128205128\n",
      "Recall score of the model:  0.861423923923924\n",
      "Confuion Matrix \n",
      " [[277  19]\n",
      " [ 23  85]]\n"
     ]
    }
   ],
   "source": [
    "from sklearn.linear_model import LogisticRegression\n",
    "logic_model=LogisticRegression()\n",
    "logic_model.fit(X_train,y_train)\n",
    "y_pred=logic_model.predict(X_test)\n",
    "\n",
    "print(\"ACCURACY of the model: \", accuracy_score(y_test, y_pred))\n",
    "print(\"F - score of the model: \", f1_score(y_test, y_pred,average='macro'))\n",
    "print(\"Precision score of the model: \", precision_score(y_test, y_pred,average='macro'))\n",
    "print(\"Recall score of the model: \", recall_score(y_test, y_pred,average='macro'))\n",
    "print(\"Confuion Matrix \\n\", confusion_matrix(y_test, y_pred))"
   ]
  },
  {
   "cell_type": "markdown",
   "id": "32189349",
   "metadata": {},
   "source": [
    "### c)Decision Tree"
   ]
  },
  {
   "cell_type": "code",
   "execution_count": 71,
   "id": "f03baa78",
   "metadata": {},
   "outputs": [
    {
     "name": "stdout",
     "output_type": "stream",
     "text": [
      "ACCURACY of the model:  0.8985148514851485\n",
      "F - score of the model:  0.8700811796541041\n",
      "Precision score of the model:  0.871188520721231\n",
      "Recall score of the model:  0.868993993993994\n",
      "Confuion Matrix \n",
      " [[276  20]\n",
      " [ 21  87]]\n"
     ]
    }
   ],
   "source": [
    "from sklearn.tree import DecisionTreeClassifier\n",
    "dt_model=DecisionTreeClassifier(random_state=0)\n",
    "dt_model.fit(X_train,y_train)\n",
    "y_pred=dt_model.predict(X_test)\n",
    "print(\"ACCURACY of the model: \", accuracy_score(y_test, y_pred))\n",
    "print(\"F - score of the model: \", f1_score(y_test, y_pred,average='macro'))\n",
    "print(\"Precision score of the model: \", precision_score(y_test, y_pred,average='macro'))\n",
    "print(\"Recall score of the model: \", recall_score(y_test, y_pred,average='macro'))\n",
    "print(\"Confuion Matrix \\n\", confusion_matrix(y_test, y_pred))"
   ]
  },
  {
   "cell_type": "markdown",
   "id": "006baa62",
   "metadata": {},
   "source": [
    "More accuracy in Random Forest tree"
   ]
  },
  {
   "cell_type": "markdown",
   "id": "556a2988",
   "metadata": {},
   "source": [
    "# 5)Fine tuning the model"
   ]
  },
  {
   "cell_type": "markdown",
   "id": "363c5d2d",
   "metadata": {},
   "source": [
    "- To improve the model accuracy, we are using a normalisation method. we are using MinMaxScaler from the scikit-learn library to scale down all the values into the 0–1 range."
   ]
  },
  {
   "cell_type": "code",
   "execution_count": null,
   "id": "bcc64875",
   "metadata": {},
   "outputs": [],
   "source": [
    "scaler = MinMaxScaler(feature_range=(0, 1))\n",
    "features = [\n",
    "    'STATE', 'CONSTITUENCY', 'NAME', 'PARTY', 'SYMBOL', 'GENDER', 'CRIMINAL_CASES', 'AGE', 'CATEGORY', 'EDUCATION', 'GENERAL_VOTES', 'POSTAL_VOTES', 'TOTAL_VOTES', 'TOTAL_ELECTORS']\n",
    "dataset[features] = scaler.fit_transform(dataset[features])"
   ]
  },
  {
   "cell_type": "code",
   "execution_count": 72,
   "id": "2ec45400",
   "metadata": {},
   "outputs": [
    {
     "name": "stdout",
     "output_type": "stream",
     "text": [
      "Testing Accuracy is:  88.61386138613861 %2\n"
     ]
    }
   ],
   "source": [
    "y = dataset[\"WINNER\"]\n",
    "X = dataset.drop(labels=[\"WINNER\"], axis=1)\n",
    "\n",
    "# splitting dataset into train and test data\n",
    "X_train, X_test, y_train, y_test = train_test_split(X, y, test_size=0.2, random_state=1, stratify=y)\n",
    "\n",
    "# train and test knn model\n",
    "knn = KNeighborsClassifier()\n",
    "knn.fit(X_train, y_train)\n",
    "knn.predict(X_test)\n",
    "print(\"Testing Accuracy is: \", knn.score(X_test, y_test)*100, \"%2\")"
   ]
  },
  {
   "cell_type": "markdown",
   "id": "19404ddb",
   "metadata": {},
   "source": [
    "- The test after normalisation shows an accuracy of 88.6%"
   ]
  },
  {
   "cell_type": "code",
   "execution_count": null,
   "id": "5b9d0e01",
   "metadata": {},
   "outputs": [],
   "source": []
  },
  {
   "cell_type": "code",
   "execution_count": null,
   "id": "04d8ffaf",
   "metadata": {},
   "outputs": [],
   "source": []
  },
  {
   "cell_type": "code",
   "execution_count": null,
   "id": "47b5ab95",
   "metadata": {},
   "outputs": [],
   "source": []
  },
  {
   "cell_type": "code",
   "execution_count": null,
   "id": "7ce41699",
   "metadata": {},
   "outputs": [],
   "source": []
  },
  {
   "cell_type": "code",
   "execution_count": null,
   "id": "9bde4529",
   "metadata": {},
   "outputs": [],
   "source": []
  }
 ],
 "metadata": {
  "kernelspec": {
   "display_name": "Python 3 (ipykernel)",
   "language": "python",
   "name": "python3"
  },
  "language_info": {
   "codemirror_mode": {
    "name": "ipython",
    "version": 3
   },
   "file_extension": ".py",
   "mimetype": "text/x-python",
   "name": "python",
   "nbconvert_exporter": "python",
   "pygments_lexer": "ipython3",
   "version": "3.8.8"
  }
 },
 "nbformat": 4,
 "nbformat_minor": 5
}
