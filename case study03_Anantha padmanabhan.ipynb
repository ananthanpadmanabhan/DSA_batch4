{
 "cells": [
  {
   "cell_type": "code",
   "execution_count": 1,
   "id": "cc50f124",
   "metadata": {},
   "outputs": [],
   "source": [
    "import pandas as pd\n",
    "import numpy as np \n",
    "import seaborn as sns\n",
    "import matplotlib.pyplot as plt"
   ]
  },
  {
   "cell_type": "markdown",
   "id": "444c50c8",
   "metadata": {},
   "source": [
    "### Reading the data for building a regression model"
   ]
  },
  {
   "cell_type": "code",
   "execution_count": 2,
   "id": "1384747b",
   "metadata": {},
   "outputs": [],
   "source": [
    "dt=pd.read_csv(r'D:\\DSA\\week7\\Add_sales_data_2018.csv')"
   ]
  },
  {
   "cell_type": "code",
   "execution_count": 3,
   "id": "cf6fcfd1",
   "metadata": {},
   "outputs": [
    {
     "name": "stdout",
     "output_type": "stream",
     "text": [
      "<class 'pandas.core.frame.DataFrame'>\n",
      "RangeIndex: 205 entries, 0 to 204\n",
      "Data columns (total 7 columns):\n",
      " #   Column                Non-Null Count  Dtype  \n",
      "---  ------                --------------  -----  \n",
      " 0   Date                  205 non-null    object \n",
      " 1   Add1(in Thousands)    205 non-null    float64\n",
      " 2   Add2(in Thousands)    205 non-null    float64\n",
      " 3   Add3(in Thousands)    205 non-null    float64\n",
      " 4   Add4(in Thousands)    205 non-null    float64\n",
      " 5   Add5(in Thousands)    205 non-null    float64\n",
      " 6   Profit(in Thousands)  205 non-null    float64\n",
      "dtypes: float64(6), object(1)\n",
      "memory usage: 11.3+ KB\n"
     ]
    }
   ],
   "source": [
    "dt.info()"
   ]
  },
  {
   "cell_type": "code",
   "execution_count": 4,
   "id": "be5ea1db",
   "metadata": {},
   "outputs": [
    {
     "data": {
      "text/plain": [
       "(205, 7)"
      ]
     },
     "execution_count": 4,
     "metadata": {},
     "output_type": "execute_result"
    }
   ],
   "source": [
    "dt.shape"
   ]
  },
  {
   "cell_type": "code",
   "execution_count": 5,
   "id": "d3b2112d",
   "metadata": {},
   "outputs": [
    {
     "data": {
      "text/plain": [
       "Index(['Date', 'Add1(in Thousands)', 'Add2(in Thousands)',\n",
       "       'Add3(in Thousands)', 'Add4(in Thousands)', 'Add5(in Thousands)',\n",
       "       'Profit(in Thousands)'],\n",
       "      dtype='object')"
      ]
     },
     "execution_count": 5,
     "metadata": {},
     "output_type": "execute_result"
    }
   ],
   "source": [
    "dt.columns"
   ]
  },
  {
   "cell_type": "code",
   "execution_count": null,
   "id": "45872c6b",
   "metadata": {},
   "outputs": [],
   "source": []
  },
  {
   "cell_type": "code",
   "execution_count": 73,
   "id": "e56a7963",
   "metadata": {},
   "outputs": [
    {
     "data": {
      "text/html": [
       "<div>\n",
       "<style scoped>\n",
       "    .dataframe tbody tr th:only-of-type {\n",
       "        vertical-align: middle;\n",
       "    }\n",
       "\n",
       "    .dataframe tbody tr th {\n",
       "        vertical-align: top;\n",
       "    }\n",
       "\n",
       "    .dataframe thead th {\n",
       "        text-align: right;\n",
       "    }\n",
       "</style>\n",
       "<table border=\"1\" class=\"dataframe\">\n",
       "  <thead>\n",
       "    <tr style=\"text-align: right;\">\n",
       "      <th></th>\n",
       "      <th>Add1(in Thousands)</th>\n",
       "      <th>Add2(in Thousands)</th>\n",
       "      <th>Add3(in Thousands)</th>\n",
       "      <th>Add4(in Thousands)</th>\n",
       "      <th>Add5(in Thousands)</th>\n",
       "      <th>Profit(in Thousands)</th>\n",
       "    </tr>\n",
       "  </thead>\n",
       "  <tbody>\n",
       "    <tr>\n",
       "      <th>count</th>\n",
       "      <td>205.000000</td>\n",
       "      <td>205.000000</td>\n",
       "      <td>205.000000</td>\n",
       "      <td>205.000000</td>\n",
       "      <td>205.000000</td>\n",
       "      <td>205.000000</td>\n",
       "    </tr>\n",
       "    <tr>\n",
       "      <th>mean</th>\n",
       "      <td>267.577561</td>\n",
       "      <td>271.722439</td>\n",
       "      <td>262.990732</td>\n",
       "      <td>267.223902</td>\n",
       "      <td>267.152683</td>\n",
       "      <td>5059.630234</td>\n",
       "    </tr>\n",
       "    <tr>\n",
       "      <th>std</th>\n",
       "      <td>26.219588</td>\n",
       "      <td>25.914939</td>\n",
       "      <td>26.126704</td>\n",
       "      <td>26.238832</td>\n",
       "      <td>26.215360</td>\n",
       "      <td>486.910414</td>\n",
       "    </tr>\n",
       "    <tr>\n",
       "      <th>min</th>\n",
       "      <td>208.000000</td>\n",
       "      <td>218.600000</td>\n",
       "      <td>205.900000</td>\n",
       "      <td>210.250000</td>\n",
       "      <td>209.200000</td>\n",
       "      <td>4042.448000</td>\n",
       "    </tr>\n",
       "    <tr>\n",
       "      <th>25%</th>\n",
       "      <td>244.000000</td>\n",
       "      <td>248.500000</td>\n",
       "      <td>240.300000</td>\n",
       "      <td>243.050000</td>\n",
       "      <td>243.000000</td>\n",
       "      <td>4617.695000</td>\n",
       "    </tr>\n",
       "    <tr>\n",
       "      <th>50%</th>\n",
       "      <td>269.700000</td>\n",
       "      <td>274.200000</td>\n",
       "      <td>263.250000</td>\n",
       "      <td>268.900000</td>\n",
       "      <td>268.350000</td>\n",
       "      <td>5088.455000</td>\n",
       "    </tr>\n",
       "    <tr>\n",
       "      <th>75%</th>\n",
       "      <td>284.400000</td>\n",
       "      <td>288.800000</td>\n",
       "      <td>280.900000</td>\n",
       "      <td>284.500000</td>\n",
       "      <td>284.450000</td>\n",
       "      <td>5387.438000</td>\n",
       "    </tr>\n",
       "    <tr>\n",
       "      <th>max</th>\n",
       "      <td>327.700000</td>\n",
       "      <td>328.750000</td>\n",
       "      <td>321.650000</td>\n",
       "      <td>325.950000</td>\n",
       "      <td>325.750000</td>\n",
       "      <td>6137.800000</td>\n",
       "    </tr>\n",
       "  </tbody>\n",
       "</table>\n",
       "</div>"
      ],
      "text/plain": [
       "       Add1(in Thousands)  Add2(in Thousands)  Add3(in Thousands)  \\\n",
       "count          205.000000          205.000000          205.000000   \n",
       "mean           267.577561          271.722439          262.990732   \n",
       "std             26.219588           25.914939           26.126704   \n",
       "min            208.000000          218.600000          205.900000   \n",
       "25%            244.000000          248.500000          240.300000   \n",
       "50%            269.700000          274.200000          263.250000   \n",
       "75%            284.400000          288.800000          280.900000   \n",
       "max            327.700000          328.750000          321.650000   \n",
       "\n",
       "       Add4(in Thousands)  Add5(in Thousands)  Profit(in Thousands)  \n",
       "count          205.000000          205.000000            205.000000  \n",
       "mean           267.223902          267.152683           5059.630234  \n",
       "std             26.238832           26.215360            486.910414  \n",
       "min            210.250000          209.200000           4042.448000  \n",
       "25%            243.050000          243.000000           4617.695000  \n",
       "50%            268.900000          268.350000           5088.455000  \n",
       "75%            284.500000          284.450000           5387.438000  \n",
       "max            325.950000          325.750000           6137.800000  "
      ]
     },
     "execution_count": 73,
     "metadata": {},
     "output_type": "execute_result"
    }
   ],
   "source": [
    "dt.describe() #Just to get an idea about the data"
   ]
  },
  {
   "cell_type": "markdown",
   "id": "bf23612f",
   "metadata": {},
   "source": [
    "### Using scatter plot to chek the distribution of observed data"
   ]
  },
  {
   "cell_type": "code",
   "execution_count": 8,
   "id": "879c4b41",
   "metadata": {},
   "outputs": [
    {
     "data": {
      "text/plain": [
       "<function matplotlib.pyplot.show(close=None, block=None)>"
      ]
     },
     "execution_count": 8,
     "metadata": {},
     "output_type": "execute_result"
    },
    {
     "data": {
      "image/png": "[encoded data removed]",
      "text/plain": [
       "<Figure size 720x576 with 6 Axes>"
      ]
     },
     "metadata": {
      "needs_background": "light"
     },
     "output_type": "display_data"
    }
   ],
   "source": [
    "scattergraph = dt.select_dtypes(include=['int32','int64','float'])\n",
    "scattergraph.hist (figsize=(10,8))\n",
    "plt.show"
   ]
  },
  {
   "cell_type": "markdown",
   "id": "0c6012dd",
   "metadata": {},
   "source": [
    "### Using corr() function to find out the correlation between the ad agencies and the profit genrated"
   ]
  },
  {
   "cell_type": "code",
   "execution_count": 9,
   "id": "5ceb13fc",
   "metadata": {},
   "outputs": [
    {
     "data": {
      "text/plain": [
       "<AxesSubplot:>"
      ]
     },
     "execution_count": 9,
     "metadata": {},
     "output_type": "execute_result"
    },
    {
     "data": {
      "image/png": "[encoded data removed]",
      "text/plain": [
       "<Figure size 1440x720 with 2 Axes>"
      ]
     },
     "metadata": {
      "needs_background": "light"
     },
     "output_type": "display_data"
    }
   ],
   "source": [
    "corr=dt.corr()\n",
    "plt.subplots(figsize=(20,10))\n",
    "sns.heatmap(corr, vmin=.9, vmax=1, annot=True, linewidth=.3)"
   ]
  },
  {
   "cell_type": "markdown",
   "id": "38575de8",
   "metadata": {},
   "source": [
    "- As is seen in the heat map, there is strong correlation between the ad agencies and the profit generated. \n",
    "- Since all the correlations are above 0.9, no coulmns have been dropped for further analysis"
   ]
  },
  {
   "cell_type": "code",
   "execution_count": 74,
   "id": "e617a47a",
   "metadata": {},
   "outputs": [
    {
     "data": {
      "text/plain": [
       "Index(['Date', 'Add1(in Thousands)', 'Add2(in Thousands)',\n",
       "       'Add3(in Thousands)', 'Add4(in Thousands)', 'Add5(in Thousands)',\n",
       "       'Profit(in Thousands)'],\n",
       "      dtype='object')"
      ]
     },
     "execution_count": 74,
     "metadata": {},
     "output_type": "execute_result"
    }
   ],
   "source": [
    "dt.columns"
   ]
  },
  {
   "cell_type": "code",
   "execution_count": 51,
   "id": "a8fa542f",
   "metadata": {},
   "outputs": [
    {
     "data": {
      "text/plain": [
       "Index(['Add1(in Thousands)', 'Add2(in Thousands)', 'Add3(in Thousands)',\n",
       "       'Add4(in Thousands)', 'Add5(in Thousands)', 'Profit(in Thousands)'],\n",
       "      dtype='object')"
      ]
     },
     "execution_count": 51,
     "metadata": {},
     "output_type": "execute_result"
    }
   ],
   "source": [
    "dt1=dt.drop(['Date'],axis=1)\n",
    "dt1.columns"
   ]
  },
  {
   "cell_type": "markdown",
   "id": "740819fd",
   "metadata": {},
   "source": [
    "- Dropping the Date column which is of non numeric type from the dataset "
   ]
  },
  {
   "cell_type": "code",
   "execution_count": 52,
   "id": "f25b3e9e",
   "metadata": {},
   "outputs": [],
   "source": [
    "y=dt1['Profit(in Thousands)']\n",
    "x=dt1.drop(['Profit(in Thousands)'], axis=1)"
   ]
  },
  {
   "cell_type": "code",
   "execution_count": 65,
   "id": "cff20f5a",
   "metadata": {},
   "outputs": [
    {
     "data": {
      "text/plain": [
       "(205, 5)"
      ]
     },
     "execution_count": 65,
     "metadata": {},
     "output_type": "execute_result"
    }
   ],
   "source": [
    "x.shape"
   ]
  },
  {
   "cell_type": "markdown",
   "id": "37ba41bb",
   "metadata": {},
   "source": [
    "- New dataset "
   ]
  },
  {
   "cell_type": "markdown",
   "id": "a10109de",
   "metadata": {},
   "source": [
    "### Building a regression model for the prediction of profit from the given data"
   ]
  },
  {
   "cell_type": "code",
   "execution_count": 55,
   "id": "450d71ae",
   "metadata": {},
   "outputs": [],
   "source": [
    "from sklearn.model_selection import train_test_split\n",
    "x_train,x_test,y_train,y_test=train_test_split(x,y,random_state=42, test_size=.25)"
   ]
  },
  {
   "cell_type": "markdown",
   "id": "9e25dc4d",
   "metadata": {},
   "source": [
    "- Importing the train test split technique from sklearn to build the model\n",
    "- And splitting the data for model training and testing"
   ]
  },
  {
   "cell_type": "code",
   "execution_count": 56,
   "id": "5000c72b",
   "metadata": {},
   "outputs": [],
   "source": [
    "from sklearn import linear_model\n",
    "lr=linear_model.LinearRegression()"
   ]
  },
  {
   "cell_type": "markdown",
   "id": "b78e8db6",
   "metadata": {},
   "source": [
    "- Creating an instance using linear regression function from the sklearn library"
   ]
  },
  {
   "cell_type": "code",
   "execution_count": 57,
   "id": "a228b129",
   "metadata": {},
   "outputs": [],
   "source": [
    "model=lr.fit(x_train,y_train)"
   ]
  },
  {
   "cell_type": "markdown",
   "id": "141645ba",
   "metadata": {},
   "source": [
    "- Model fitting "
   ]
  },
  {
   "cell_type": "code",
   "execution_count": 58,
   "id": "6092683c",
   "metadata": {},
   "outputs": [],
   "source": [
    "pred=model.predict(x_test)"
   ]
  },
  {
   "cell_type": "markdown",
   "id": "90b02b94",
   "metadata": {},
   "source": [
    "- Model prediction"
   ]
  },
  {
   "cell_type": "code",
   "execution_count": 60,
   "id": "71eb59c4",
   "metadata": {},
   "outputs": [
    {
     "data": {
      "text/plain": [
       "15     4152.066\n",
       "9      4446.441\n",
       "100    5131.898\n",
       "132    4907.560\n",
       "68     5004.282\n",
       "95     4623.793\n",
       "159    5384.175\n",
       "162    5328.025\n",
       "147    5175.051\n",
       "182    5956.323\n",
       "191    5780.799\n",
       "164    4997.719\n",
       "65     5075.858\n",
       "175    5784.540\n",
       "73     4936.120\n",
       "152    5065.652\n",
       "18     4190.965\n",
       "82     5034.726\n",
       "86     5015.536\n",
       "143    5134.657\n",
       "60     5145.131\n",
       "101    5421.940\n",
       "98     4569.293\n",
       "30     4598.292\n",
       "25     4436.321\n",
       "16     4175.677\n",
       "168    5616.791\n",
       "195    5667.250\n",
       "97     4648.834\n",
       "194    5717.838\n",
       "67     5001.615\n",
       "120    5182.368\n",
       "154    5017.503\n",
       "202    5545.013\n",
       "79     5013.207\n",
       "69     5030.451\n",
       "145    5108.626\n",
       "55     4760.877\n",
       "45     4606.340\n",
       "84     4925.861\n",
       "146    5250.788\n",
       "66     5038.222\n",
       "111    5491.792\n",
       "153    5019.997\n",
       "96     4647.356\n",
       "38     4486.380\n",
       "24     4435.174\n",
       "139    5300.437\n",
       "112    5425.190\n",
       "29     4482.183\n",
       "19     4193.095\n",
       "178    6062.457\n",
       "Name: Profit(in Thousands), dtype: float64"
      ]
     },
     "execution_count": 60,
     "metadata": {},
     "output_type": "execute_result"
    }
   ],
   "source": [
    "y_test"
   ]
  },
  {
   "cell_type": "code",
   "execution_count": 61,
   "id": "ce9cd964",
   "metadata": {},
   "outputs": [
    {
     "data": {
      "text/plain": [
       "array([4152.066, 4446.441, 5131.898, 4907.56 , 5004.282, 4623.793,\n",
       "       5384.175, 5328.025, 5175.051, 5956.323, 5780.799, 4997.719,\n",
       "       5075.858, 5784.54 , 4936.12 , 5065.652, 4190.965, 5034.726,\n",
       "       5015.536, 5134.657, 5145.131, 5421.94 , 4569.293, 4598.292,\n",
       "       4436.321, 4175.677, 5616.791, 5667.25 , 4648.834, 5717.838,\n",
       "       5001.615, 5182.368, 5017.503, 5545.013, 5013.207, 5030.451,\n",
       "       5108.626, 4760.877, 4606.34 , 4925.861, 5250.788, 5038.222,\n",
       "       5491.792, 5019.997, 4647.356, 4486.38 , 4435.174, 5300.437,\n",
       "       5425.19 , 4482.183, 4193.095, 6062.457])"
      ]
     },
     "execution_count": 61,
     "metadata": {},
     "output_type": "execute_result"
    }
   ],
   "source": [
    "pred # The predicted values"
   ]
  },
  {
   "cell_type": "code",
   "execution_count": 62,
   "id": "37ff56e7",
   "metadata": {},
   "outputs": [],
   "source": [
    "from sklearn.metrics import mean_squared_error"
   ]
  },
  {
   "cell_type": "code",
   "execution_count": 63,
   "id": "ce18791d",
   "metadata": {},
   "outputs": [
    {
     "name": "stdout",
     "output_type": "stream",
     "text": [
      "MSE is 6.999220567756388e-25\n"
     ]
    }
   ],
   "source": [
    "print('MSE is', mean_squared_error(y_test,pred))"
   ]
  },
  {
   "cell_type": "markdown",
   "id": "a7a54c18",
   "metadata": {},
   "source": [
    "- Using the MSE method to validate the model\n",
    "- The MSE value is very low and hence the model is nearly accurate"
   ]
  },
  {
   "cell_type": "markdown",
   "id": "f91b5095",
   "metadata": {},
   "source": [
    "### A new set of values to predict the profit using the created model"
   ]
  },
  {
   "cell_type": "code",
   "execution_count": 69,
   "id": "220d8c15",
   "metadata": {},
   "outputs": [
    {
     "data": {
      "text/plain": [
       "[[290, 312, 309, 298, 320]]"
      ]
     },
     "execution_count": 69,
     "metadata": {},
     "output_type": "execute_result"
    }
   ],
   "source": [
    "x_test1=[[290,312,309,298,320]]\n",
    "x_test1"
   ]
  },
  {
   "cell_type": "markdown",
   "id": "74211718",
   "metadata": {},
   "source": [
    "- A 2D array is created with new set of values to predict the profit "
   ]
  },
  {
   "cell_type": "code",
   "execution_count": 71,
   "id": "1077a65a",
   "metadata": {},
   "outputs": [
    {
     "name": "stderr",
     "output_type": "stream",
     "text": [
      "C:\\Users\\psana\\anaconda3\\lib\\site-packages\\sklearn\\base.py:445: UserWarning: X does not have valid feature names, but LinearRegression was fitted with feature names\n",
      "  warnings.warn(\n"
     ]
    },
    {
     "data": {
      "text/plain": [
       "array([5820.06])"
      ]
     },
     "execution_count": 71,
     "metadata": {},
     "output_type": "execute_result"
    }
   ],
   "source": [
    "pred1=model.predict(x_test1)\n",
    "pred1"
   ]
  },
  {
   "cell_type": "markdown",
   "id": "e6bea848",
   "metadata": {},
   "source": [
    "- The model has predicted the value 5820.06 as profit if the ad agencies were given the amounts respectively\n",
    "- This predication is fairly accurate as the MSE value of the model is very low"
   ]
  },
  {
   "cell_type": "code",
   "execution_count": null,
   "id": "50e2d56d",
   "metadata": {},
   "outputs": [],
   "source": []
  }
 ],
 "metadata": {
  "kernelspec": {
   "display_name": "Python 3 (ipykernel)",
   "language": "python",
   "name": "python3"
  },
  "language_info": {
   "codemirror_mode": {
    "name": "ipython",
    "version": 3
   },
   "file_extension": ".py",
   "mimetype": "text/x-python",
   "name": "python",
   "nbconvert_exporter": "python",
   "pygments_lexer": "ipython3",
   "version": "3.8.8"
  }
 },
 "nbformat": 4,
 "nbformat_minor": 5
}
